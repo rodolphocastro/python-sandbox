{
 "cells": [
  {
   "cell_type": "code",
   "execution_count": null,
   "metadata": {},
   "outputs": [],
   "source": [
    "# note: if you have already restored dependencies by looking at the requirements.txt file, you can skip this cell\n",
    "# activating the environment is necessary to make sure the dependencies are installed in the right place\n",
    "!source venv/bin/activate\n",
    "\n",
    "# %pip runs pip directly from the notebook\n",
    "%pip install -r requirements.txt"
   ]
  },
  {
   "cell_type": "markdown",
   "metadata": {},
   "source": [
    "# Reading and Uploading files from Insta360\n",
    "\n",
    "For my personal blogs I use an Insta360 x3 (as well as an Ace Pro) camera, although I have two different microsd cards I still struggle on keeping files stored somewhere I can reprocess later if needed.\n",
    "\n",
    "So what if I created a script that does the hard lifting for me?\n",
    "\n",
    "## Theory\n",
    "\n",
    "Using Python I might be able to:\n",
    "\n",
    "1. list all the files currently in the camera's SD Card\n",
    "2. group them by date of creation and type (video x photos)\n",
    "3. upload them to a cold storage on AWS / Azure\n",
    "4. delete them from the camera in order to free up space\n",
    "\n",
    "This notebook will test out if this could work!\n",
    "\n",
    "## Listing all the files in my camera`s SD Card\n",
    "\n",
    "Once mounted to an Unix system Insta360 cameras contain a `DCIM` folder which has subfolders containing actual footage recorded by that camera.\n",
    "\n",
    "To make this easier I'll begin with the x3 files (a 360 camera). Looking at the file browser the path I'm interested in is `DCIM/Camera01`\n",
    "\n",
    "Within those subfolders we'll find:\n",
    "\n",
    "1. `*.lrv` files containing low resolution footage\n",
    "2. `*.insv` files containing 360 footage in its native resolution\n",
    "3. `*.insp` files containing 360 photos in its native resolution\n",
    "4. `*.dng` files containing the digital negative of the photos\n",
    "\n",
    "### Navigating to the Camera itself\n"
   ]
  },
  {
   "cell_type": "code",
   "execution_count": 6,
   "metadata": {},
   "outputs": [
    {
     "name": "stdout",
     "output_type": "stream",
     "text": [
      "found volumes: /Volumes\n",
      "camera volume: /Volumes/Insta360 x3\n",
      "camera volume found\n"
     ]
    }
   ],
   "source": [
    "from pathlib import Path\n",
    "\n",
    "# make sure the data directory exists\n",
    "# in Mac this means looking at the Volume mounted in /Volumes/<camera_name>\n",
    "CAMERA_NAME = \"Insta360 x3\"\n",
    "\n",
    "volumes_path = Path(\"/Volumes\")\n",
    "print(f\"found volumes: {volumes_path}\")\n",
    "# check if there's a volume mounted with the camera name\n",
    "camera_path = volumes_path / CAMERA_NAME\n",
    "print(f\"camera volume: {camera_path}\")\n",
    "if camera_path.exists():\n",
    "    print(\"camera volume found\")\n",
    "else:\n",
    "    exit(-1)"
   ]
  },
  {
   "cell_type": "markdown",
   "metadata": {},
   "source": [
    "once we are in the camera's mounted volume we can move into the DCIM folder and check if there are any subdirs to it.\n",
    "\n",
    "since I'm not sure if it'll always be \"Camera01\" I'll iterate and list each directory."
   ]
  },
  {
   "cell_type": "code",
   "execution_count": 9,
   "metadata": {},
   "outputs": [
    {
     "name": "stdout",
     "output_type": "stream",
     "text": [
      "found DCIM folder: /Volumes/Insta360 x3/DCIM\n",
      "DCIM subdirectories: [PosixPath('/Volumes/Insta360 x3/DCIM/Camera01')]\n"
     ]
    }
   ],
   "source": [
    "# moving into the DCIM folder\n",
    "dcim_path = camera_path / \"DCIM\"\n",
    "if dcim_path.exists():\n",
    "    print(f\"found DCIM folder: {dcim_path}\")\n",
    "else:\n",
    "    exit(-2)\n",
    "\n",
    "# list the contents of the DCIM folder\n",
    "dcim_contents = list(dcim_path.iterdir())\n",
    "# filter out files, keep only directories\n",
    "dcim_contents = [item for item in dcim_contents if item.is_dir()]\n",
    "print(f\"DCIM subdirectories: {dcim_contents}\")"
   ]
  },
  {
   "cell_type": "markdown",
   "metadata": {},
   "source": [
    "### Iterating over files\n",
    "\n",
    "Now that we have access to the Camera's content let's see what information we can extract for each files in there."
   ]
  },
  {
   "cell_type": "code",
   "execution_count": 18,
   "metadata": {},
   "outputs": [
    {
     "name": "stdout",
     "output_type": "stream",
     "text": [
      "files path: /Volumes/Insta360 x3/DCIM/Camera01\n",
      "first file: /Volumes/Insta360 x3/DCIM/Camera01/VID_20241119_071917_00_001.insv, there are 105 files in total\n",
      "file's size is 632827501 bytes, it was created on 2024-11-19 07:20:41.010000\n"
     ]
    }
   ],
   "source": [
    "from datetime import datetime\n",
    "files_path = dcim_contents[0] # assuming the first directory is the one we want\n",
    "print(f\"files path: {files_path}\")\n",
    "\n",
    "all_files = list(files_path.iterdir())\n",
    "first_file = all_files[0]\n",
    "print(f\"first file: {first_file}, there are {len(all_files)} files in total\")\n",
    "\n",
    "file_metadata = first_file.stat()\n",
    "print(f\"file's size is {file_metadata.st_size} bytes, it was created on {datetime.fromtimestamp(file_metadata.st_ctime)}\")"
   ]
  },
  {
   "cell_type": "markdown",
   "metadata": {},
   "source": [
    "By using the `.stat()` method I'm able to fetch the metadata I expected to be able to consider uploading those files to AWS:\n",
    "\n",
    "1. Its size\n",
    "2. And its creation date\n",
    "\n",
    "Now let's make this a bit more organized to make iterations easier in the future."
   ]
  },
  {
   "cell_type": "code",
   "execution_count": 22,
   "metadata": {},
   "outputs": [
    {
     "name": "stdout",
     "output_type": "stream",
     "text": [
      "name: VID_20241119_071917_00_001 was created on 2024-11-19 07:20:41.010000 and is of type Insta360FileType.VIDEO\n"
     ]
    }
   ],
   "source": [
    "from enum import Enum\n",
    "from typing import Self\n",
    "\n",
    "class Insta360File:\n",
    "    \"\"\"\n",
    "    A file from an Insta360 camera.\n",
    "    \"\"\"\n",
    "\n",
    "    class Insta360FileType(Enum):\n",
    "        \"\"\"\n",
    "        The type of file that an Insta360 camera can produce.\n",
    "        \"\"\"\n",
    "        PHOTO = \".insp\"\n",
    "        VIDEO = \".insv\"\n",
    "        LOW_RES_VIDEO = \".lrv\"\n",
    "        PHOTO_NEGATIVE = \".dng\"\n",
    "\n",
    "    def __init__(self, path: Path) -> Self:\n",
    "        \"\"\"\n",
    "        Initialize the Insta360File with the given path.\n",
    "        :param path: the path to the file\n",
    "        \"\"\"\n",
    "        self.__path__ = path\n",
    "        self.__absolute__ = path.absolute()\n",
    "        self.name = path.stem\n",
    "        self.__file_type__ = path.suffix\n",
    "        metadata = path.stat() # get the file metadata and copy it over to the parameters\n",
    "        self.size = metadata.st_size\n",
    "        self.created_at = datetime.fromtimestamp(metadata.st_ctime)\n",
    "\n",
    "    @property\n",
    "    def file_type(self) -> Insta360FileType:\n",
    "        \"\"\"\n",
    "        Get the file type as an Insta360FileType enum.\n",
    "        \"\"\"\n",
    "        for file_type in Insta360File.Insta360FileType:\n",
    "            if self.__file_type__ == file_type.value:\n",
    "                return file_type\n",
    "        return None\n",
    "    \n",
    "\n",
    "# creating a File from our first_file\n",
    "first_file_instance = Insta360File(first_file)\n",
    "print(f\"name: {first_file_instance.name} was created on {first_file_instance.created_at} and is of type {first_file_instance.file_type}\")"
   ]
  },
  {
   "cell_type": "markdown",
   "metadata": {},
   "source": [
    "now let's group out the files by their types"
   ]
  },
  {
   "cell_type": "code",
   "execution_count": 28,
   "metadata": {},
   "outputs": [
    {
     "name": "stdout",
     "output_type": "stream",
     "text": [
      "created 105 file objects\n"
     ]
    }
   ],
   "source": [
    "for file in all_files:\n",
    "    file_instance = Insta360File(file)\n",
    "\n",
    "all_files_objects = [Insta360File(file) for file in all_files]\n",
    "print(f\"created {len(all_files_objects)} file objects\")\n",
    "\n",
    "photo_files = [file for file in all_files_objects if file.file_type == Insta360File.Insta360FileType.PHOTO]\n",
    "video_files = [file for file in all_files_objects if file.file_type == Insta360File.Insta360FileType.VIDEO]\n",
    "low_res_video_files = [file for file in all_files_objects if file.file_type == Insta360File.Insta360FileType.LOW_RES_VIDEO]"
   ]
  }
 ],
 "metadata": {
  "kernelspec": {
   "display_name": "venv",
   "language": "python",
   "name": "python3"
  },
  "language_info": {
   "codemirror_mode": {
    "name": "ipython",
    "version": 3
   },
   "file_extension": ".py",
   "mimetype": "text/x-python",
   "name": "python",
   "nbconvert_exporter": "python",
   "pygments_lexer": "ipython3",
   "version": "3.13.0"
  }
 },
 "nbformat": 4,
 "nbformat_minor": 2
}
